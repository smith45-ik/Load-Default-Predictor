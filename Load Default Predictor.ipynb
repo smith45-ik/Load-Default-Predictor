{
 "cells": [
  {
   "cell_type": "markdown",
   "id": "deff89a6",
   "metadata": {},
   "source": [
    "<h1>Load Defualt Predictor"
   ]
  },
  {
   "cell_type": "markdown",
   "id": "79a5b2bb",
   "metadata": {},
   "source": [
    "<img src=\"Screenshot (147).png\">"
   ]
  },
  {
   "cell_type": "markdown",
   "id": "96cf7ba7",
   "metadata": {},
   "source": [
    "http://localhost:8501/"
   ]
  }
 ],
 "metadata": {
  "kernelspec": {
   "display_name": "Python 3 (ipykernel)",
   "language": "python",
   "name": "python3"
  },
  "language_info": {
   "codemirror_mode": {
    "name": "ipython",
    "version": 3
   },
   "file_extension": ".py",
   "mimetype": "text/x-python",
   "name": "python",
   "nbconvert_exporter": "python",
   "pygments_lexer": "ipython3",
   "version": "3.9.12"
  }
 },
 "nbformat": 4,
 "nbformat_minor": 5
}
